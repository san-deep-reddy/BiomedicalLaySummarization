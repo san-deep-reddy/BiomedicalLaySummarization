{
 "cells": [
  {
   "cell_type": "code",
   "execution_count": null,
   "id": "25adc51e-2697-4206-a79e-e8bc204a0e31",
   "metadata": {},
   "outputs": [],
   "source": [
    "with open(r\"output_relations.txt\", 'r') as file:\n",
    "    positive_pairs = file.readlines()\n",
    "\n",
    "relationships = [\"interacts with\", \"is related to\", \"interacts\", \"has function\", \"is a\", \"treats\"]\n",
    "\n",
    "entities = {relation:{} for relation in relationships}\n",
    "\n",
    "for i, positive_pair in enumerate(positive_pairs):\n",
    "    positive_pair = positive_pair.strip()\n",
    "\n",
    "    for relation in relationships:\n",
    "        if relation in positive_pair:\n",
    "            entity1, entity2 = positive_pair.split(relation)\n",
    "            entity1, entity2 = entity1.strip(), entity2.strip()\n",
    "            if entity1 not in entities[relation]: \n",
    "                entities[relation][entity1] = []\n",
    "            entities[relation][entity1].append(entity2)\n",
    "            break\n",
    "\n",
    "import random\n",
    "\n",
    "negative_samples = {relation: {key: {} for key in data} for relation, data in entities.items()}\n",
    "sample_count = 128\n",
    "\n",
    "for relation, data in entities.items():\n",
    "    for key, values in data.items():\n",
    "        other_keys = list(data.keys())\n",
    "        for value in values:\n",
    "            negative_samples[relation][key][value] = []\n",
    "            while sample_count > 0:\n",
    "                random_other_key = random.choice(other_keys)\n",
    "                if random_other_key != key:\n",
    "                    for other_value in data[random_other_key]:\n",
    "                        if other_value not in values:\n",
    "                            negative_samples[relation][key][value].append(other_value)\n",
    "                            sample_count -= 1\n",
    "                            if sample_count == 0:\n",
    "                                break\n",
    "            sample_count = 128\n",
    "\n",
    "\n",
    "import json\n",
    "with open(r\"negative_samples_count128.json\", 'w') as file:\n",
    "    json.dump(negative_samples, file)"
   ]
  }
 ],
 "metadata": {
  "kernelspec": {
   "display_name": "Python 3 (ipykernel)",
   "language": "python",
   "name": "python3"
  },
  "language_info": {
   "codemirror_mode": {
    "name": "ipython",
    "version": 3
   },
   "file_extension": ".py",
   "mimetype": "text/x-python",
   "name": "python",
   "nbconvert_exporter": "python",
   "pygments_lexer": "ipython3",
   "version": "3.10.12"
  }
 },
 "nbformat": 4,
 "nbformat_minor": 5
}
